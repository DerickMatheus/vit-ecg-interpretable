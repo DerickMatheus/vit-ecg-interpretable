{
 "cells": [
  {
   "cell_type": "code",
   "execution_count": 2,
   "id": "a7397ab3",
   "metadata": {
    "tags": []
   },
   "outputs": [],
   "source": [
    "import torch\n",
    "import os\n",
    "from tqdm import tqdm\n",
    "import torch.optim as optim\n",
    "import numpy as np\n",
    "from sklearn.metrics import precision_recall_curve\n",
    "# user written\n",
    "from bcosTransformer import BCosTransformer\n",
    "from torch.utils.data import Dataset,ConcatDataset,DataLoader,random_split\n",
    "import pandas as pd\n",
    "from dataloader import CODE2Dataset, BatchDataloader, CODE2Dataloader\n",
    "import utils\n",
    "from metrics import EcgMetrics\n",
    "import h5py"
   ]
  },
  {
   "cell_type": "code",
   "execution_count": 3,
   "id": "f4009a5b",
   "metadata": {},
   "outputs": [],
   "source": [
    "path_to_csv = \"/srv/derickmath/aws/h5files/classification_data.csv\"\n",
    "path_to_h5 = \"/srv/derickmath/aws/h5files/metadata_all_months.h5\"\n",
    "\n",
    "\n",
    "h5file = h5py.File(path_to_h5, 'r')\n",
    "train_dataset = CODE2Dataloader(h5file, path_to_csv)\n",
    "train_loader = DataLoader(dataset=train_dataset,batch_size=32,num_workers=1)"
   ]
  },
  {
   "cell_type": "code",
   "execution_count": 9,
   "id": "5894f6b6",
   "metadata": {},
   "outputs": [],
   "source": [
    "idx = 5983\n",
    "new_idx = train_dataset.train[idx]\n",
    "X=train_dataset.traces[new_idx]\n",
    "traces = np.empty(shape = (train_dataset.traces.shape[0], 1024))\n",
    "try:\n",
    "    segment = nk.ecg_peaks(X[0], sampling_rate=400)\n",
    "    Rpeak = segment[1]['ECG_R_Peaks'][1]\n",
    "    if Rpeak < 4096 - 1024:\n",
    "        traces = X[:,Rpeak:Rpeak+1024]\n",
    "    else:\n",
    "        traces = X[:,0:1024]\n",
    "\n",
    "except:\n",
    "    traces = X[:,0:1024]\n",
    "X=torch.tensor(traces)"
   ]
  },
  {
   "cell_type": "code",
   "execution_count": 10,
   "id": "bec749dd",
   "metadata": {},
   "outputs": [
    {
     "data": {
      "text/plain": [
       "torch.Size([8, 1024])"
      ]
     },
     "execution_count": 10,
     "metadata": {},
     "output_type": "execute_result"
    }
   ],
   "source": [
    "X.shape"
   ]
  },
  {
   "cell_type": "code",
   "execution_count": 3,
   "id": "edc7b29d",
   "metadata": {
    "tags": []
   },
   "outputs": [],
   "source": [
    "path_to_h5 = \"/home/derickmath/UFMG/CODE/data/exams_part13.hdf5\"\n",
    "path_to_csv = \"/home/derickmath/UFMG/CODE/data/exams_formated.csv\"\n",
    "\n",
    "# dset = CODE2Dataset(\n",
    "#         path_to_h5,\n",
    "#         path_to_csv, traces_dset=\"tracings\", exam_id_dset=\"exam_id\"\n",
    "#     )\n",
    "# n_valid = sum(dset.val)\n",
    "# valid_loader = BatchDataloader(dset, batch_size, mask=dset.val)\n",
    "# train_loader = BatchDataloader(dset, batch_size, mask=dset.train)"
   ]
  },
  {
   "cell_type": "code",
   "execution_count": 4,
   "id": "7438a9aa",
   "metadata": {
    "tags": []
   },
   "outputs": [],
   "source": [
    "import h5py\n",
    "\n",
    "f = h5py.File(path_to_h5)\n",
    "x = f['tracings'][0:10]\n",
    "model = BCosTransformer(dim = 4096, depth=1, heads=2, in_features=4096, nclass=6, dim_head=2)\n",
    "device = 'cuda:0' if torch.cuda.is_available() else 'cpu'\n",
    "model = model.to(device)\n",
    "x = torch.tensor(x[:,:,0]).to(device)"
   ]
  },
  {
   "cell_type": "code",
   "execution_count": 6,
   "id": "3e2cd3de",
   "metadata": {
    "tags": []
   },
   "outputs": [
    {
     "data": {
      "text/plain": [
       "tensor([[-1.2340e+00,  2.0559e-01,  5.8346e-01,  2.1753e+00, -1.7350e+00,\n",
       "         -2.1304e+00],\n",
       "        [-1.2632e+00,  2.2897e-01,  5.5067e-01,  2.3123e+00, -1.5513e+00,\n",
       "         -1.8453e+00],\n",
       "        [-1.2398e+00,  1.9379e-01,  5.7362e-01,  2.1993e+00, -1.7574e+00,\n",
       "         -2.1470e+00],\n",
       "        [-9.8802e-03, -1.3189e-02, -3.3579e-02, -4.9052e-02,  3.3714e-08,\n",
       "         -3.4260e-02],\n",
       "        [-1.3000e+00,  2.1143e-01,  6.0529e-01,  2.2899e+00, -1.7848e+00,\n",
       "         -2.1878e+00],\n",
       "        [-1.2334e+00,  2.1018e-01,  6.0926e-01,  2.1962e+00, -1.7760e+00,\n",
       "         -2.1937e+00],\n",
       "        [-1.2133e+00,  1.9648e-01,  5.6900e-01,  2.1301e+00, -1.7035e+00,\n",
       "         -2.0991e+00],\n",
       "        [-1.1588e+00,  1.8948e-01,  5.4935e-01,  2.0428e+00, -1.6150e+00,\n",
       "         -2.0057e+00],\n",
       "        [-1.2643e+00,  1.9848e-01,  5.9025e-01,  2.2188e+00, -1.7663e+00,\n",
       "         -2.1623e+00],\n",
       "        [-1.2246e+00,  1.8831e-01,  5.7496e-01,  2.1447e+00, -1.7027e+00,\n",
       "         -2.0906e+00]], device='cuda:0', grad_fn=<DivBackward0>)"
      ]
     },
     "execution_count": 6,
     "metadata": {},
     "output_type": "execute_result"
    }
   ],
   "source": [
    "model(x)"
   ]
  },
  {
   "cell_type": "code",
   "execution_count": null,
   "id": "1213aea9",
   "metadata": {},
   "outputs": [],
   "source": []
  }
 ],
 "metadata": {
  "kernelspec": {
   "display_name": "Python 3",
   "language": "python",
   "name": "python3"
  },
  "language_info": {
   "codemirror_mode": {
    "name": "ipython",
    "version": 3
   },
   "file_extension": ".py",
   "mimetype": "text/x-python",
   "name": "python",
   "nbconvert_exporter": "python",
   "pygments_lexer": "ipython3",
   "version": "3.7.4"
  }
 },
 "nbformat": 4,
 "nbformat_minor": 5
}
